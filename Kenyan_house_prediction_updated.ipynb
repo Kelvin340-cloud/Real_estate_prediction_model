{
 "cells": [
  {
   "cell_type": "markdown",
   "metadata": {
    "id": "9sEF19smxAnH"
   },
   "source": [
    "# KENYAN HOUSE PREDICTION\n",
    "\n",
    "\n",
    "---\n",
    "\n",
    "\n",
    "## Project Description:\n",
    "\n",
    "This project aims to develop a robust predictive model to assist clients in making informed decisions when buying or renting a house. The model will leverage historical data to provide accurate property value estimates and actionable insights. Unlike existing models that heavily rely on real-time updates, this solution focuses on extensive historical data, offering consistent and reliable predictions without the need for continuous data refreshes.\n",
    "\n",
    "The predictive model will incorporate machine learning algorithms such as Support Vector Machine (SVM), Decision Tree, and Random Forest to capture complex relationships between property features and market values. Clients will also be able to explore different what-if scenarios, allowing them to see how various factors, such as market changes or property modifications, might impact prices.\n",
    "\n",
    "The model will emphasize localized features, such as neighborhood characteristics and amenities, offering personalized and precise property valuations, thus enabling users to confidently navigate the real estate market.\n",
    "\n",
    "\n",
    "---\n",
    "\n",
    "\n",
    "## Conclusion:\n",
    "By utilizing a combination of machine learning algorithms—Support Vector Machine (SVM), Decision Tree and Random Forest this predictive model provides a powerful tool for estimating property values based on historical data. Its focus on personalized insights, scenario-based analysis, and localized data sets it apart from other existing models, making it more adaptable to the diverse real estate market in Kenya.\n",
    "\n",
    "With accurate predictions and enhanced user experience, this model will empower clients to make informed, data-driven decisions in their real estate transactions, ultimately improving their confidence and success in the property market."
   ]
  },
  {
   "cell_type": "markdown",
   "metadata": {
    "id": "K3gRbGrAzULR"
   },
   "source": [
    "## Basic Data Exploartion"
   ]
  },
  {
   "cell_type": "code",
   "execution_count": null,
   "metadata": {
    "id": "58UqP1h8vk1T"
   },
   "outputs": [],
   "source": [
    "# libraries to handle data manipulation and visualization\n",
    "import pandas as pd\n",
    "import numpy as np\n",
    "import matplotlib.pyplot as plt\n",
    "import seaborn as sns\n"
   ]
  },
  {
   "cell_type": "code",
   "execution_count": null,
   "metadata": {},
   "outputs": [],
   "source": [
    "# Path to the Rent Dataset.\n",
    "rent_file_path = r'dataset\\rent_apts_with_subcounties.csv'\n",
    "\n",
    "# Convert the dataset to a DataFrame\n",
    "rent_df = pd.read_csv(rent_file_path)\n"
   ]
  },
  {
   "cell_type": "code",
   "execution_count": null,
   "metadata": {},
   "outputs": [],
   "source": [
    "# load the dataset from drive\n",
    "#from google.colab import drive\n",
    "#drive.mount('/content/drive')\n",
    "\n",
    "\n",
    "#rent_file_path = '/content/drive/MyDrive/Final_Year_Project/Dataset/rent_apts_with_subcounties.csv'\n",
    "\n",
    "# Create a DataFrame\n",
    "#rent_df = pd.read_csv(rent_file_path)"
   ]
  },
  {
   "cell_type": "code",
   "execution_count": null,
   "metadata": {
    "id": "hM9I1J7t3UuV"
   },
   "outputs": [],
   "source": [
    "from IPython.display import display, HTML\n",
    "\n",
    "# Create a scrollable table to visualize the whole dataset\n",
    "def create_scrollable_table (rent_df, table_id, title):\n",
    "  \"\"\"\n",
    "    Creates an HTML string for a scrollable table to display DataFrame content.\n",
    "\n",
    "    Parameters:\n",
    "    rent_df (pd.DataFrame): The DataFrame to be converted into an HTML table.\n",
    "    table_id (str): The HTML id attribute for the div containing the table.\n",
    "    title (str): The title to be displayed above the table.\n",
    "\n",
    "    Returns:\n",
    "    str: An HTML string containing the scrollable table.\n",
    "    \"\"\"\n",
    "  html = f'<h3>{title}</h3>'\n",
    "  html += f'<div id =\"{table_id}\" style = \"height:200px; overflow:auto\">'\n",
    "  html += rent_df.to_html()\n",
    "  html += '</div>'\n",
    "  return html"
   ]
  },
  {
   "cell_type": "code",
   "execution_count": null,
   "metadata": {
    "colab": {
     "base_uri": "https://localhost:8080/",
     "height": 329
    },
    "id": "fCwHtf2h5dDh",
    "outputId": "3a395de9-3f80-4497-fe45-feb470a6369c"
   },
   "outputs": [
    {
     "name": "stdout",
     "output_type": "stream",
     "text": [
      "(1848, 8)\n",
      "\n"
     ]
    },
    {
     "data": {
      "text/html": [
       "<div>\n",
       "<style scoped>\n",
       "    .dataframe tbody tr th:only-of-type {\n",
       "        vertical-align: middle;\n",
       "    }\n",
       "\n",
       "    .dataframe tbody tr th {\n",
       "        vertical-align: top;\n",
       "    }\n",
       "\n",
       "    .dataframe thead th {\n",
       "        text-align: right;\n",
       "    }\n",
       "</style>\n",
       "<table border=\"1\" class=\"dataframe\">\n",
       "  <thead>\n",
       "    <tr style=\"text-align: right;\">\n",
       "      <th></th>\n",
       "      <th>Agency</th>\n",
       "      <th>Sub_County</th>\n",
       "      <th>Neighborhood</th>\n",
       "      <th>Price</th>\n",
       "      <th>link</th>\n",
       "      <th>sq_mtrs</th>\n",
       "      <th>Bedrooms</th>\n",
       "      <th>Bathrooms</th>\n",
       "    </tr>\n",
       "  </thead>\n",
       "  <tbody>\n",
       "    <tr>\n",
       "      <th>0</th>\n",
       "      <td>Buy Rent Shelters</td>\n",
       "      <td>Westlands</td>\n",
       "      <td>General Mathenge</td>\n",
       "      <td>KSh 155,000</td>\n",
       "      <td>/listings/4-bedroom-apartment-for-rent-general...</td>\n",
       "      <td>4.0</td>\n",
       "      <td>4.0</td>\n",
       "      <td>4.0</td>\n",
       "    </tr>\n",
       "    <tr>\n",
       "      <th>1</th>\n",
       "      <td>Kenya Classic Homes</td>\n",
       "      <td>Dagoretti North</td>\n",
       "      <td>Kilimani</td>\n",
       "      <td>KSh 100,000</td>\n",
       "      <td>/listings/3-bedroom-apartment-for-rent-kiliman...</td>\n",
       "      <td>300.0</td>\n",
       "      <td>3.0</td>\n",
       "      <td>4.0</td>\n",
       "    </tr>\n",
       "    <tr>\n",
       "      <th>2</th>\n",
       "      <td>Absolute Estate Agents</td>\n",
       "      <td>Dagoretti North</td>\n",
       "      <td>Hatheru Rd,Lavington</td>\n",
       "      <td>KSh 75,000</td>\n",
       "      <td>/listings/3-bedroom-apartment-for-rent-lavingt...</td>\n",
       "      <td>3.0</td>\n",
       "      <td>3.0</td>\n",
       "      <td>5.0</td>\n",
       "    </tr>\n",
       "    <tr>\n",
       "      <th>3</th>\n",
       "      <td>A1 Properties Limited</td>\n",
       "      <td>Dagoretti North</td>\n",
       "      <td>Kilimani</td>\n",
       "      <td>KSh 135,000</td>\n",
       "      <td>/listings/3-bedroom-apartment-for-rent-kiliman...</td>\n",
       "      <td>227.0</td>\n",
       "      <td>3.0</td>\n",
       "      <td>4.0</td>\n",
       "    </tr>\n",
       "    <tr>\n",
       "      <th>4</th>\n",
       "      <td>Pmc Estates Limited</td>\n",
       "      <td>Embakasi</td>\n",
       "      <td>Imara Daima</td>\n",
       "      <td>KSh 50,000</td>\n",
       "      <td>/listings/3-bedroom-apartment-for-rent-imara-d...</td>\n",
       "      <td>3.0</td>\n",
       "      <td>3.0</td>\n",
       "      <td>NaN</td>\n",
       "    </tr>\n",
       "  </tbody>\n",
       "</table>\n",
       "</div>"
      ],
      "text/plain": [
       "                   Agency       Sub_County          Neighborhood        Price  \\\n",
       "0       Buy Rent Shelters        Westlands      General Mathenge  KSh 155,000   \n",
       "1     Kenya Classic Homes  Dagoretti North              Kilimani  KSh 100,000   \n",
       "2  Absolute Estate Agents  Dagoretti North  Hatheru Rd,Lavington   KSh 75,000   \n",
       "3   A1 Properties Limited  Dagoretti North              Kilimani  KSh 135,000   \n",
       "4     Pmc Estates Limited         Embakasi           Imara Daima   KSh 50,000   \n",
       "\n",
       "                                                link  sq_mtrs  Bedrooms  \\\n",
       "0  /listings/4-bedroom-apartment-for-rent-general...      4.0       4.0   \n",
       "1  /listings/3-bedroom-apartment-for-rent-kiliman...    300.0       3.0   \n",
       "2  /listings/3-bedroom-apartment-for-rent-lavingt...      3.0       3.0   \n",
       "3  /listings/3-bedroom-apartment-for-rent-kiliman...    227.0       3.0   \n",
       "4  /listings/3-bedroom-apartment-for-rent-imara-d...      3.0       3.0   \n",
       "\n",
       "   Bathrooms  \n",
       "0        4.0  \n",
       "1        4.0  \n",
       "2        5.0  \n",
       "3        4.0  \n",
       "4        NaN  "
      ]
     },
     "execution_count": 6,
     "metadata": {},
     "output_type": "execute_result"
    }
   ],
   "source": [
    "# Display the shape of the dataset\n",
    "print(rent_df.shape)\n",
    "print()\n",
    "rent_df.head()"
   ]
  },
  {
   "cell_type": "markdown",
   "metadata": {
    "id": "bNjNpZOhIrki"
   },
   "source": [
    "### Understand the dataset"
   ]
  },
  {
   "cell_type": "code",
   "execution_count": null,
   "metadata": {
    "colab": {
     "base_uri": "https://localhost:8080/"
    },
    "id": "5ksSLert55-s",
    "outputId": "867ccae2-f6aa-4de7-fb81-d7827f21014c"
   },
   "outputs": [
    {
     "name": "stdout",
     "output_type": "stream",
     "text": [
      "There are 1848 rows in the dataset.\n",
      "There are 8 columns in the dataset.\n"
     ]
    }
   ],
   "source": [
    "# Undersatand the dataset\n",
    "print(f\"There are {rent_df.shape[0]} rows in the dataset.\")\n",
    "print(f\"There are {rent_df.shape[1]} columns in the dataset.\")"
   ]
  },
  {
   "cell_type": "code",
   "execution_count": null,
   "metadata": {
    "colab": {
     "base_uri": "https://localhost:8080/"
    },
    "id": "ohk8CVfjGaa8",
    "outputId": "3b346670-1319-4b5a-d7e3-c03e681c0337"
   },
   "outputs": [
    {
     "name": "stdout",
     "output_type": "stream",
     "text": [
      "<class 'pandas.core.frame.DataFrame'>\n",
      "RangeIndex: 1848 entries, 0 to 1847\n",
      "Data columns (total 8 columns):\n",
      " #   Column        Non-Null Count  Dtype  \n",
      "---  ------        --------------  -----  \n",
      " 0   Agency        1848 non-null   object \n",
      " 1   Sub_County    1848 non-null   object \n",
      " 2   Neighborhood  1848 non-null   object \n",
      " 3   Price         1848 non-null   object \n",
      " 4   link          1848 non-null   object \n",
      " 5   sq_mtrs       1846 non-null   float64\n",
      " 6   Bedrooms      1845 non-null   float64\n",
      " 7   Bathrooms     1557 non-null   float64\n",
      "dtypes: float64(3), object(5)\n",
      "memory usage: 115.6+ KB\n"
     ]
    }
   ],
   "source": [
    "# Print the information of the dataset.\n",
    "rent_df.info()"
   ]
  },
  {
   "cell_type": "markdown",
   "metadata": {
    "id": "MhX4_00bIehZ"
   },
   "source": [
    "### Descriptive Statistics for both Numerical and Categorical features"
   ]
  },
  {
   "cell_type": "code",
   "execution_count": null,
   "metadata": {
    "colab": {
     "base_uri": "https://localhost:8080/",
     "height": 258
    },
    "id": "YdMc5G86GlB8",
    "outputId": "1b7e4ea4-94a7-48df-e90e-b47695c8a6bf"
   },
   "outputs": [
    {
     "data": {
      "text/html": [
       "<h3>Descriptive statistics for numerical features.</h3><div id =\"Numerical_features\" style = \"height:200px; overflow:auto\"><table border=\"1\" class=\"dataframe\">\n",
       "  <thead>\n",
       "    <tr style=\"text-align: right;\">\n",
       "      <th></th>\n",
       "      <th>sq_mtrs</th>\n",
       "      <th>Bedrooms</th>\n",
       "      <th>Bathrooms</th>\n",
       "    </tr>\n",
       "  </thead>\n",
       "  <tbody>\n",
       "    <tr>\n",
       "      <th>count</th>\n",
       "      <td>1846.000000</td>\n",
       "      <td>1845.000000</td>\n",
       "      <td>1557.000000</td>\n",
       "    </tr>\n",
       "    <tr>\n",
       "      <th>mean</th>\n",
       "      <td>327.226977</td>\n",
       "      <td>2.577778</td>\n",
       "      <td>2.595376</td>\n",
       "    </tr>\n",
       "    <tr>\n",
       "      <th>std</th>\n",
       "      <td>2048.784581</td>\n",
       "      <td>0.819399</td>\n",
       "      <td>1.000349</td>\n",
       "    </tr>\n",
       "    <tr>\n",
       "      <th>min</th>\n",
       "      <td>0.000000</td>\n",
       "      <td>0.000000</td>\n",
       "      <td>1.000000</td>\n",
       "    </tr>\n",
       "    <tr>\n",
       "      <th>25%</th>\n",
       "      <td>2.000000</td>\n",
       "      <td>2.000000</td>\n",
       "      <td>2.000000</td>\n",
       "    </tr>\n",
       "    <tr>\n",
       "      <th>50%</th>\n",
       "      <td>3.000000</td>\n",
       "      <td>3.000000</td>\n",
       "      <td>2.000000</td>\n",
       "    </tr>\n",
       "    <tr>\n",
       "      <th>75%</th>\n",
       "      <td>4.000000</td>\n",
       "      <td>3.000000</td>\n",
       "      <td>3.000000</td>\n",
       "    </tr>\n",
       "    <tr>\n",
       "      <th>max</th>\n",
       "      <td>40470.000000</td>\n",
       "      <td>6.000000</td>\n",
       "      <td>6.000000</td>\n",
       "    </tr>\n",
       "  </tbody>\n",
       "</table></div>"
      ],
      "text/plain": [
       "<IPython.core.display.HTML object>"
      ]
     },
     "metadata": {},
     "output_type": "display_data"
    }
   ],
   "source": [
    "# Select numerical features and create descriptive statistics\n",
    "numerical_features = rent_df.select_dtypes(include=[np.number])\n",
    "\n",
    "# Create a descriptive statistics\n",
    "num_stats = numerical_features.describe()\n",
    "\n",
    "# Display the results.\n",
    "html_num_stats = create_scrollable_table(num_stats, \"Numerical_features\", \"Descriptive statistics for numerical features.\")\n",
    "\n",
    "display(HTML(html_num_stats))"
   ]
  },
  {
   "cell_type": "code",
   "execution_count": null,
   "metadata": {
    "colab": {
     "base_uri": "https://localhost:8080/",
     "height": 258
    },
    "id": "sG5-y5c5HerS",
    "outputId": "3a3c8045-7111-4ba8-f919-faaf5e227fb8"
   },
   "outputs": [
    {
     "data": {
      "text/html": [
       "<h3>Descriptive statistics for categorical features.</h3><div id =\"categorical_features\" style = \"height:200px; overflow:auto\"><table border=\"1\" class=\"dataframe\">\n",
       "  <thead>\n",
       "    <tr style=\"text-align: right;\">\n",
       "      <th></th>\n",
       "      <th>Agency</th>\n",
       "      <th>Sub_County</th>\n",
       "      <th>Neighborhood</th>\n",
       "      <th>Price</th>\n",
       "      <th>link</th>\n",
       "    </tr>\n",
       "  </thead>\n",
       "  <tbody>\n",
       "    <tr>\n",
       "      <th>count</th>\n",
       "      <td>1848</td>\n",
       "      <td>1848</td>\n",
       "      <td>1848</td>\n",
       "      <td>1848</td>\n",
       "      <td>1848</td>\n",
       "    </tr>\n",
       "    <tr>\n",
       "      <th>unique</th>\n",
       "      <td>194</td>\n",
       "      <td>37</td>\n",
       "      <td>647</td>\n",
       "      <td>112</td>\n",
       "      <td>1761</td>\n",
       "    </tr>\n",
       "    <tr>\n",
       "      <th>top</th>\n",
       "      <td>Prudential Green Ville</td>\n",
       "      <td>Dagoretti North</td>\n",
       "      <td>Kilimani</td>\n",
       "      <td>KSh 100,000</td>\n",
       "      <td>/listings/4-bedroom-apartment-for-rent-general-mathenge-3468257</td>\n",
       "    </tr>\n",
       "    <tr>\n",
       "      <th>freq</th>\n",
       "      <td>98</td>\n",
       "      <td>850</td>\n",
       "      <td>168</td>\n",
       "      <td>137</td>\n",
       "      <td>2</td>\n",
       "    </tr>\n",
       "  </tbody>\n",
       "</table></div>"
      ],
      "text/plain": [
       "<IPython.core.display.HTML object>"
      ]
     },
     "metadata": {},
     "output_type": "display_data"
    }
   ],
   "source": [
    "# Select categorical features and create descriptive statistics\n",
    "categorical_features = rent_df.select_dtypes(include=[object])\n",
    "\n",
    "# Create a descriptive statistics\n",
    "cat_stats = categorical_features.describe()\n",
    "\n",
    "# Display the results.\n",
    "html_display = create_scrollable_table(cat_stats, \"categorical_features\", \"Descriptive statistics for categorical features.\")\n",
    "\n",
    "display(HTML(html_display))"
   ]
  },
  {
   "cell_type": "markdown",
   "metadata": {
    "id": "y2Rt-hYAIzX6"
   },
   "source": [
    "### Summary descriptive statistics for both numerical and categorical features.\n"
   ]
  },
  {
   "cell_type": "code",
   "execution_count": null,
   "metadata": {
    "colab": {
     "base_uri": "https://localhost:8080/",
     "height": 258
    },
    "id": "1_mfVlN7IEwo",
    "outputId": "33266537-08f5-48d1-ad9d-32679c9afad3"
   },
   "outputs": [
    {
     "data": {
      "text/html": [
       "<h3>Summary statistics for Numerical features.</h3><div id =\"Summary_statistics\" style = \"height:200px; overflow:auto\"><table border=\"1\" class=\"dataframe\">\n",
       "  <thead>\n",
       "    <tr style=\"text-align: right;\">\n",
       "      <th></th>\n",
       "      <th>count</th>\n",
       "      <th>mean</th>\n",
       "      <th>std</th>\n",
       "      <th>min</th>\n",
       "      <th>25%</th>\n",
       "      <th>50%</th>\n",
       "      <th>75%</th>\n",
       "      <th>max</th>\n",
       "    </tr>\n",
       "  </thead>\n",
       "  <tbody>\n",
       "    <tr>\n",
       "      <th>sq_mtrs</th>\n",
       "      <td>1846.0</td>\n",
       "      <td>327.226977</td>\n",
       "      <td>2048.784581</td>\n",
       "      <td>0.0</td>\n",
       "      <td>2.0</td>\n",
       "      <td>3.0</td>\n",
       "      <td>4.0</td>\n",
       "      <td>40470.0</td>\n",
       "    </tr>\n",
       "    <tr>\n",
       "      <th>Bedrooms</th>\n",
       "      <td>1845.0</td>\n",
       "      <td>2.577778</td>\n",
       "      <td>0.819399</td>\n",
       "      <td>0.0</td>\n",
       "      <td>2.0</td>\n",
       "      <td>3.0</td>\n",
       "      <td>3.0</td>\n",
       "      <td>6.0</td>\n",
       "    </tr>\n",
       "    <tr>\n",
       "      <th>Bathrooms</th>\n",
       "      <td>1557.0</td>\n",
       "      <td>2.595376</td>\n",
       "      <td>1.000349</td>\n",
       "      <td>1.0</td>\n",
       "      <td>2.0</td>\n",
       "      <td>2.0</td>\n",
       "      <td>3.0</td>\n",
       "      <td>6.0</td>\n",
       "    </tr>\n",
       "  </tbody>\n",
       "</table></div>"
      ],
      "text/plain": [
       "<IPython.core.display.HTML object>"
      ]
     },
     "metadata": {},
     "output_type": "display_data"
    }
   ],
   "source": [
    "# Select numerical features\n",
    "numerical_features = rent_df.select_dtypes(include=[np.number])\n",
    "\n",
    "# Create summary statistics for the numerical features\n",
    "sum_numerical_stats = numerical_features.describe().T\n",
    "\n",
    "# Display the results\n",
    "html_sum_numerical_stats = create_scrollable_table(sum_numerical_stats, \"Summary_statistics\", \"Summary statistics for Numerical features.\")\n",
    "\n",
    "display(HTML(html_sum_numerical_stats))"
   ]
  },
  {
   "cell_type": "code",
   "execution_count": null,
   "metadata": {
    "colab": {
     "base_uri": "https://localhost:8080/",
     "height": 258
    },
    "id": "TVzL1ztELdKO",
    "outputId": "ecfd4f01-9bf4-462c-cea5-0f598e6ae675"
   },
   "outputs": [
    {
     "data": {
      "text/html": [
       "<h3>Summary statistics for Categorical features.</h3><div id =\"Summary_statistics\" style = \"height:200px; overflow:auto\"><table border=\"1\" class=\"dataframe\">\n",
       "  <thead>\n",
       "    <tr style=\"text-align: right;\">\n",
       "      <th></th>\n",
       "      <th>count</th>\n",
       "      <th>unique</th>\n",
       "      <th>top</th>\n",
       "      <th>freq</th>\n",
       "    </tr>\n",
       "  </thead>\n",
       "  <tbody>\n",
       "    <tr>\n",
       "      <th>Agency</th>\n",
       "      <td>1848</td>\n",
       "      <td>194</td>\n",
       "      <td>Prudential Green Ville</td>\n",
       "      <td>98</td>\n",
       "    </tr>\n",
       "    <tr>\n",
       "      <th>Sub_County</th>\n",
       "      <td>1848</td>\n",
       "      <td>37</td>\n",
       "      <td>Dagoretti North</td>\n",
       "      <td>850</td>\n",
       "    </tr>\n",
       "    <tr>\n",
       "      <th>Neighborhood</th>\n",
       "      <td>1848</td>\n",
       "      <td>647</td>\n",
       "      <td>Kilimani</td>\n",
       "      <td>168</td>\n",
       "    </tr>\n",
       "    <tr>\n",
       "      <th>Price</th>\n",
       "      <td>1848</td>\n",
       "      <td>112</td>\n",
       "      <td>KSh 100,000</td>\n",
       "      <td>137</td>\n",
       "    </tr>\n",
       "    <tr>\n",
       "      <th>link</th>\n",
       "      <td>1848</td>\n",
       "      <td>1761</td>\n",
       "      <td>/listings/4-bedroom-apartment-for-rent-general-mathenge-3468257</td>\n",
       "      <td>2</td>\n",
       "    </tr>\n",
       "  </tbody>\n",
       "</table></div>"
      ],
      "text/plain": [
       "<IPython.core.display.HTML object>"
      ]
     },
     "metadata": {},
     "output_type": "display_data"
    }
   ],
   "source": [
    "# Select categorical features\n",
    "categorical_features  = rent_df.select_dtypes(include = [object])\n",
    "\n",
    "# create a summary statistics\n",
    "sum_categorical_stats = categorical_features.describe().T\n",
    "\n",
    "# Display the results.\n",
    "html_sum_categorical_stats = create_scrollable_table(sum_categorical_stats, \"Summary_statistics\", \"Summary statistics for Categorical features.\")\n",
    "\n",
    "display(HTML(html_sum_categorical_stats))"
   ]
  },
  {
   "cell_type": "markdown",
   "metadata": {
    "id": "oX-f4ZTfU8sF"
   },
   "source": [
    "## Data cleaning and Wrangling\n",
    "\n",
    "\n",
    "---\n",
    "- Drop the Agency and Links column from the dataset.\n",
    "- Replace the Ksh in Price column with white space\n",
    "- Convert the Price column to an integer.\n",
    "- Check and count the Missing values in the dataset.\n",
    "- Check for duplicates.\n",
    "- Standardize the sqrt_mts.\n",
    "- Move the independent variable to be in the last column.\n",
    "- Find the summary descriptive statistics for both the numerical and categorical features.\n",
    "- Print all the columns in the dataset.\n",
    "\n",
    "\n",
    "---\n",
    "\n",
    "\n",
    "\n"
   ]
  },
  {
   "cell_type": "markdown",
   "metadata": {
    "id": "rzUrXjYhgbDx"
   },
   "source": [
    "### 1. Drop the Agency and Links column from the dataset."
   ]
  },
  {
   "cell_type": "code",
   "execution_count": null,
   "metadata": {
    "colab": {
     "base_uri": "https://localhost:8080/",
     "height": 296
    },
    "id": "_EQTfLc0TgXQ",
    "outputId": "c043c393-1dac-4aba-9498-032b4592a3ae"
   },
   "outputs": [
    {
     "name": "stdout",
     "output_type": "stream",
     "text": [
      "Index(['Sub_County', 'Neighborhood', 'Price', 'sq_mtrs', 'Bedrooms',\n",
      "       'Bathrooms'],\n",
      "      dtype='object')\n",
      "\n",
      "THE NEWLY UPDATED DATASET.\n"
     ]
    },
    {
     "data": {
      "text/html": [
       "<div>\n",
       "<style scoped>\n",
       "    .dataframe tbody tr th:only-of-type {\n",
       "        vertical-align: middle;\n",
       "    }\n",
       "\n",
       "    .dataframe tbody tr th {\n",
       "        vertical-align: top;\n",
       "    }\n",
       "\n",
       "    .dataframe thead th {\n",
       "        text-align: right;\n",
       "    }\n",
       "</style>\n",
       "<table border=\"1\" class=\"dataframe\">\n",
       "  <thead>\n",
       "    <tr style=\"text-align: right;\">\n",
       "      <th></th>\n",
       "      <th>Sub_County</th>\n",
       "      <th>Neighborhood</th>\n",
       "      <th>Price</th>\n",
       "      <th>sq_mtrs</th>\n",
       "      <th>Bedrooms</th>\n",
       "      <th>Bathrooms</th>\n",
       "    </tr>\n",
       "  </thead>\n",
       "  <tbody>\n",
       "    <tr>\n",
       "      <th>0</th>\n",
       "      <td>Westlands</td>\n",
       "      <td>General Mathenge</td>\n",
       "      <td>KSh 155,000</td>\n",
       "      <td>4.0</td>\n",
       "      <td>4.0</td>\n",
       "      <td>4.0</td>\n",
       "    </tr>\n",
       "    <tr>\n",
       "      <th>1</th>\n",
       "      <td>Dagoretti North</td>\n",
       "      <td>Kilimani</td>\n",
       "      <td>KSh 100,000</td>\n",
       "      <td>300.0</td>\n",
       "      <td>3.0</td>\n",
       "      <td>4.0</td>\n",
       "    </tr>\n",
       "    <tr>\n",
       "      <th>2</th>\n",
       "      <td>Dagoretti North</td>\n",
       "      <td>Hatheru Rd,Lavington</td>\n",
       "      <td>KSh 75,000</td>\n",
       "      <td>3.0</td>\n",
       "      <td>3.0</td>\n",
       "      <td>5.0</td>\n",
       "    </tr>\n",
       "    <tr>\n",
       "      <th>3</th>\n",
       "      <td>Dagoretti North</td>\n",
       "      <td>Kilimani</td>\n",
       "      <td>KSh 135,000</td>\n",
       "      <td>227.0</td>\n",
       "      <td>3.0</td>\n",
       "      <td>4.0</td>\n",
       "    </tr>\n",
       "    <tr>\n",
       "      <th>4</th>\n",
       "      <td>Embakasi</td>\n",
       "      <td>Imara Daima</td>\n",
       "      <td>KSh 50,000</td>\n",
       "      <td>3.0</td>\n",
       "      <td>3.0</td>\n",
       "      <td>NaN</td>\n",
       "    </tr>\n",
       "  </tbody>\n",
       "</table>\n",
       "</div>"
      ],
      "text/plain": [
       "        Sub_County          Neighborhood        Price  sq_mtrs  Bedrooms  \\\n",
       "0        Westlands      General Mathenge  KSh 155,000      4.0       4.0   \n",
       "1  Dagoretti North              Kilimani  KSh 100,000    300.0       3.0   \n",
       "2  Dagoretti North  Hatheru Rd,Lavington   KSh 75,000      3.0       3.0   \n",
       "3  Dagoretti North              Kilimani  KSh 135,000    227.0       3.0   \n",
       "4         Embakasi           Imara Daima   KSh 50,000      3.0       3.0   \n",
       "\n",
       "   Bathrooms  \n",
       "0        4.0  \n",
       "1        4.0  \n",
       "2        5.0  \n",
       "3        4.0  \n",
       "4        NaN  "
      ]
     },
     "execution_count": 13,
     "metadata": {},
     "output_type": "execute_result"
    }
   ],
   "source": [
    "# Check if the 'Agency' and 'link' columns exist in the dataset before attempting to drop them\n",
    "columns_to_drop = ['Agency', 'link']\n",
    "existing_columns = [col for col in columns_to_drop if col in rent_df.columns]\n",
    "\n",
    "# Drop only the existing columns\n",
    "if existing_columns:\n",
    "    rent_df.drop(columns=existing_columns, errors='ignore', inplace=True)\n",
    "\n",
    "# Print the remaining columns\n",
    "print(rent_df.columns)\n",
    "print(\"\\nTHE NEWLY UPDATED DATASET.\")\n",
    "rent_df.head()"
   ]
  },
  {
   "cell_type": "markdown",
   "metadata": {
    "id": "G_wH6GfWkhbl"
   },
   "source": [
    "### 2. Replace the Ksh in Price column with white space"
   ]
  },
  {
   "cell_type": "code",
   "execution_count": null,
   "metadata": {
    "colab": {
     "base_uri": "https://localhost:8080/"
    },
    "id": "pxY-pnApg036",
    "outputId": "f05fceae-5f1b-407e-94d2-127f71de8ac6"
   },
   "outputs": [
    {
     "name": "stdout",
     "output_type": "stream",
     "text": [
      "0       155000\n",
      "1       100000\n",
      "2        75000\n",
      "3       135000\n",
      "4        50000\n",
      "         ...  \n",
      "1843    180000\n",
      "1844    180000\n",
      "1845    180000\n",
      "1846    180000\n",
      "1847    180000\n",
      "Name: Price, Length: 1848, dtype: int64\n"
     ]
    }
   ],
   "source": [
    "# Ensure all values in the Price column are strings\n",
    "rent_df[\"Price\"] = rent_df[\"Price\"].astype(str)\n",
    "\n",
    "# Replace \"KSh\" in the Price column\n",
    "rent_df[\"Price\"] = rent_df[\"Price\"].str.replace(\"KSh\", \"\", regex=False)\n",
    "\n",
    "# Remove white spaces from the Price column\n",
    "rent_df[\"Price\"] = rent_df[\"Price\"].str.replace(\" \", \"\", regex=False)\n",
    "\n",
    "# Remove commas from the Price column\n",
    "rent_df[\"Price\"] = rent_df[\"Price\"].str.replace(\",\", \"\", regex=False)\n",
    "\n",
    "# Convert the cleaned Price column back to numeric if needed\n",
    "rent_df[\"Price\"] = pd.to_numeric(rent_df[\"Price\"], errors=\"coerce\")\n",
    "\n",
    "print(rent_df[\"Price\"])\n"
   ]
  },
  {
   "cell_type": "markdown",
   "metadata": {
    "id": "zxjLQ2ZgsYss"
   },
   "source": [
    "### 3. Convert the Price column to an integer."
   ]
  },
  {
   "cell_type": "code",
   "execution_count": null,
   "metadata": {
    "colab": {
     "base_uri": "https://localhost:8080/"
    },
    "id": "md3kIGrIh6MY",
    "outputId": "139fe678-9aa5-49fa-c7fd-db750717a812"
   },
   "outputs": [
    {
     "data": {
      "text/plain": [
       "dtype('int64')"
      ]
     },
     "execution_count": 15,
     "metadata": {},
     "output_type": "execute_result"
    }
   ],
   "source": [
    "# Convert the Price column to an integer.\n",
    "rent_df['Price'] = rent_df['Price'].astype('int64')\n",
    "\n",
    "# Check for the data type\n",
    "rent_df['Price'].dtype"
   ]
  },
  {
   "cell_type": "markdown",
   "metadata": {
    "id": "4syoj095vufe"
   },
   "source": [
    "### 4. Check and count the Missing values in the dataset."
   ]
  },
  {
   "cell_type": "code",
   "execution_count": null,
   "metadata": {
    "colab": {
     "base_uri": "https://localhost:8080/",
     "height": 498
    },
    "id": "-Lc-2rs8tcGm",
    "outputId": "8efcb66b-0284-4ed6-97b9-dfe2f1371d5c"
   },
   "outputs": [
    {
     "data": {
      "text/html": [
       "<h3>Count of Missing values in the Dataset</h3><div id =\"missing_values\" style = \"height:200px; overflow:auto\"><table border=\"1\" class=\"dataframe\">\n",
       "  <thead>\n",
       "    <tr style=\"text-align: right;\">\n",
       "      <th></th>\n",
       "      <th>0</th>\n",
       "    </tr>\n",
       "  </thead>\n",
       "  <tbody>\n",
       "    <tr>\n",
       "      <th>Sub_County</th>\n",
       "      <td>0</td>\n",
       "    </tr>\n",
       "    <tr>\n",
       "      <th>Neighborhood</th>\n",
       "      <td>0</td>\n",
       "    </tr>\n",
       "    <tr>\n",
       "      <th>Price</th>\n",
       "      <td>0</td>\n",
       "    </tr>\n",
       "    <tr>\n",
       "      <th>sq_mtrs</th>\n",
       "      <td>2</td>\n",
       "    </tr>\n",
       "    <tr>\n",
       "      <th>Bedrooms</th>\n",
       "      <td>3</td>\n",
       "    </tr>\n",
       "    <tr>\n",
       "      <th>Bathrooms</th>\n",
       "      <td>291</td>\n",
       "    </tr>\n",
       "  </tbody>\n",
       "</table></div><h3>Count of the percentage of the missing values.</h3><div id =\"percentage_missing_values\" style = \"height:200px; overflow:auto\"><table border=\"1\" class=\"dataframe\">\n",
       "  <thead>\n",
       "    <tr style=\"text-align: right;\">\n",
       "      <th></th>\n",
       "      <th>0</th>\n",
       "    </tr>\n",
       "  </thead>\n",
       "  <tbody>\n",
       "    <tr>\n",
       "      <th>Sub_County</th>\n",
       "      <td>0.000000</td>\n",
       "    </tr>\n",
       "    <tr>\n",
       "      <th>Neighborhood</th>\n",
       "      <td>0.000000</td>\n",
       "    </tr>\n",
       "    <tr>\n",
       "      <th>Price</th>\n",
       "      <td>0.000000</td>\n",
       "    </tr>\n",
       "    <tr>\n",
       "      <th>sq_mtrs</th>\n",
       "      <td>0.108225</td>\n",
       "    </tr>\n",
       "    <tr>\n",
       "      <th>Bedrooms</th>\n",
       "      <td>0.162338</td>\n",
       "    </tr>\n",
       "    <tr>\n",
       "      <th>Bathrooms</th>\n",
       "      <td>15.746753</td>\n",
       "    </tr>\n",
       "  </tbody>\n",
       "</table></div>"
      ],
      "text/plain": [
       "<IPython.core.display.HTML object>"
      ]
     },
     "metadata": {},
     "output_type": "display_data"
    }
   ],
   "source": [
    "# Create a function to check and count for missing values.\n",
    "def count_missing_values(rent_df):\n",
    "  \"\"\"\n",
    "  Calculates and displays the number and percentage of missing values in a DataFrame.\n",
    "\n",
    "  This function identifies the number of null (missing) values and their corresponding\n",
    "  percentage for each column in the given DataFrame. It creates two scrollable HTML tables:\n",
    "  one showing the count of missing values per column and another showing the percentage\n",
    "  of missing values per column.\n",
    "\n",
    "  Parameter:\n",
    "  rent_df: The Dataframe to be analyzed for missing values.\n",
    "\n",
    "  Returns:\n",
    "  None.\n",
    "  \"\"\"\n",
    "\n",
    "  # Function to count the missing values.\n",
    "  missing_values = rent_df.isna().sum()\n",
    "\n",
    "  html_missing_values = create_scrollable_table(missing_values.to_frame(), 'missing_values', 'Count of Missing values in the Dataset')\n",
    "\n",
    "  # Calculate the percentage of the missing values.\n",
    "  percentage_missing_values = (rent_df.isna().sum() / len(rent_df) * 100)\n",
    "  html_percentage_missing_values = create_scrollable_table(percentage_missing_values.to_frame(), 'percentage_missing_values', 'Count of the percentage of the missing values.')\n",
    "\n",
    "  # Diplay the output\n",
    "  display(HTML(html_missing_values + html_percentage_missing_values ))\n",
    "\n",
    "# Call the function to display both the missing values and the percentage of the missing values.\n",
    "count_missing_values(rent_df)"
   ]
  },
  {
   "cell_type": "markdown",
   "metadata": {
    "id": "pJjt2OrXmINd"
   },
   "source": [
    "### 5. Check for duplicates."
   ]
  },
  {
   "cell_type": "code",
   "execution_count": null,
   "metadata": {
    "colab": {
     "base_uri": "https://localhost:8080/"
    },
    "id": "VEs3qWxdxNAF",
    "outputId": "2b1c198c-f927-48ee-a465-411c106e9f64"
   },
   "outputs": [
    {
     "name": "stdout",
     "output_type": "stream",
     "text": [
      "There are 226 duplicates in the data.\n",
      "\n",
      "     Sub_County          Neighborhood  Price  sq_mtrs  Bedrooms  Bathrooms\n",
      "58      Kiambaa    Limuru Road, Ruaka  20000   4000.0       1.0        1.0\n",
      "65       Kikuyu  THOGOTO, Kikuyu Town  18000      1.0       1.0        1.0\n",
      "80      Kiambaa                 Ruaka  25000      1.0       1.0        NaN\n",
      "93   Athi River              Syokimau  28000      2.0       2.0        2.0\n",
      "136    Embakasi           Imara Daima  35000      2.0       2.0        2.0\n"
     ]
    }
   ],
   "source": [
    "# Create a function to handle duplicates\n",
    "# Calculate how many duplicated values there're.\n",
    "def count_duplicates(rent_df):\n",
    "    \"\"\"\n",
    "    This function calculates and prints the number of duplicate rows in the given DataFrame.\n",
    "\n",
    "    Parameters:\n",
    "    df (pd.DataFrame): The DataFrame to check for duplicates.\n",
    "\n",
    "    Returns:\n",
    "    int: The number of duplicate rows in the DataFrame.\n",
    "    \"\"\"\n",
    "    duplicate_count = rent_df.duplicated().sum()\n",
    "    print(f\"There are {duplicate_count} duplicates in the data.\")\n",
    "\n",
    "    \n",
    "    return duplicate_count\n",
    "\n",
    "# Call the function\n",
    "duplicate_count = count_duplicates(rent_df)\n",
    "\n",
    "# Assessing the duplicates\n",
    "print()\n",
    "duplicates = rent_df[rent_df.duplicated()]\n",
    "print(duplicates.head())\n"
   ]
  },
  {
   "cell_type": "markdown",
   "metadata": {},
   "source": [
    "### 6. Remove Duplicates in the Dataset."
   ]
  },
  {
   "cell_type": "code",
   "execution_count": null,
   "metadata": {},
   "outputs": [
    {
     "name": "stdout",
     "output_type": "stream",
     "text": [
      "The number of duplicates after cleaning:  0\n",
      "        Sub_County          Neighborhood   Price  sq_mtrs  Bedrooms  Bathrooms\n",
      "0        Westlands      General Mathenge  155000      4.0       4.0        4.0\n",
      "1  Dagoretti North              Kilimani  100000    300.0       3.0        4.0\n",
      "2  Dagoretti North  Hatheru Rd,Lavington   75000      3.0       3.0        5.0\n",
      "3  Dagoretti North              Kilimani  135000    227.0       3.0        4.0\n",
      "4         Embakasi           Imara Daima   50000      3.0       3.0        NaN\n"
     ]
    }
   ],
   "source": [
    "# Remove the duplicates and update the DataFrame\n",
    "rent_df = rent_df.drop_duplicates()\n",
    "\n",
    "# Calculate the number of duplicates removed\n",
    "duplicates_removed = rent_df.shape[0] - rent_df.shape[0]\n",
    "\n",
    "# Display the result\n",
    "print(\"The number of duplicates after cleaning: \", duplicates_removed)\n",
    "\n",
    "# Optionally, show the cleaned DataFrame\n",
    "print(rent_df.head())\n"
   ]
  },
  {
   "cell_type": "markdown",
   "metadata": {
    "id": "HB3H3sZAtvBr"
   },
   "source": [
    "### 7. Move the independent variable to be in the last column."
   ]
  },
  {
   "cell_type": "code",
   "execution_count": null,
   "metadata": {
    "colab": {
     "base_uri": "https://localhost:8080/",
     "height": 206
    },
    "id": "J-tIjpPUuhAm",
    "outputId": "f2a536af-4951-47cd-9043-b0343aaf6fe3"
   },
   "outputs": [
    {
     "data": {
      "text/html": [
       "<div>\n",
       "<style scoped>\n",
       "    .dataframe tbody tr th:only-of-type {\n",
       "        vertical-align: middle;\n",
       "    }\n",
       "\n",
       "    .dataframe tbody tr th {\n",
       "        vertical-align: top;\n",
       "    }\n",
       "\n",
       "    .dataframe thead th {\n",
       "        text-align: right;\n",
       "    }\n",
       "</style>\n",
       "<table border=\"1\" class=\"dataframe\">\n",
       "  <thead>\n",
       "    <tr style=\"text-align: right;\">\n",
       "      <th></th>\n",
       "      <th>Sub_County</th>\n",
       "      <th>Neighborhood</th>\n",
       "      <th>sq_mtrs</th>\n",
       "      <th>Bedrooms</th>\n",
       "      <th>Bathrooms</th>\n",
       "      <th>Price</th>\n",
       "    </tr>\n",
       "  </thead>\n",
       "  <tbody>\n",
       "    <tr>\n",
       "      <th>0</th>\n",
       "      <td>Westlands</td>\n",
       "      <td>General Mathenge</td>\n",
       "      <td>4.0</td>\n",
       "      <td>4.0</td>\n",
       "      <td>4.0</td>\n",
       "      <td>155000</td>\n",
       "    </tr>\n",
       "    <tr>\n",
       "      <th>1</th>\n",
       "      <td>Dagoretti North</td>\n",
       "      <td>Kilimani</td>\n",
       "      <td>300.0</td>\n",
       "      <td>3.0</td>\n",
       "      <td>4.0</td>\n",
       "      <td>100000</td>\n",
       "    </tr>\n",
       "    <tr>\n",
       "      <th>2</th>\n",
       "      <td>Dagoretti North</td>\n",
       "      <td>Hatheru Rd,Lavington</td>\n",
       "      <td>3.0</td>\n",
       "      <td>3.0</td>\n",
       "      <td>5.0</td>\n",
       "      <td>75000</td>\n",
       "    </tr>\n",
       "    <tr>\n",
       "      <th>3</th>\n",
       "      <td>Dagoretti North</td>\n",
       "      <td>Kilimani</td>\n",
       "      <td>227.0</td>\n",
       "      <td>3.0</td>\n",
       "      <td>4.0</td>\n",
       "      <td>135000</td>\n",
       "    </tr>\n",
       "    <tr>\n",
       "      <th>4</th>\n",
       "      <td>Embakasi</td>\n",
       "      <td>Imara Daima</td>\n",
       "      <td>3.0</td>\n",
       "      <td>3.0</td>\n",
       "      <td>NaN</td>\n",
       "      <td>50000</td>\n",
       "    </tr>\n",
       "  </tbody>\n",
       "</table>\n",
       "</div>"
      ],
      "text/plain": [
       "        Sub_County          Neighborhood  sq_mtrs  Bedrooms  Bathrooms   Price\n",
       "0        Westlands      General Mathenge      4.0       4.0        4.0  155000\n",
       "1  Dagoretti North              Kilimani    300.0       3.0        4.0  100000\n",
       "2  Dagoretti North  Hatheru Rd,Lavington      3.0       3.0        5.0   75000\n",
       "3  Dagoretti North              Kilimani    227.0       3.0        4.0  135000\n",
       "4         Embakasi           Imara Daima      3.0       3.0        NaN   50000"
      ]
     },
     "execution_count": 19,
     "metadata": {},
     "output_type": "execute_result"
    }
   ],
   "source": [
    "def move_column_to_end(rent_df, column_name):\n",
    "    \"\"\"\n",
    "    Moves the specified column to the last position in the dataframe.\n",
    "\n",
    "    Parameters:\n",
    "        df (pd.DataFrame): The input dataframe.\n",
    "        column_name (str): The name of the column to move.\n",
    "\n",
    "    Returns:\n",
    "        pd.DataFrame: A dataframe with the specified column moved to the end.\n",
    "    \"\"\"\n",
    "\n",
    "    # Remove the column and reinsert it at the end\n",
    "    column = rent_df.pop(column_name)\n",
    "    rent_df[column_name] = column\n",
    "    return rent_df\n",
    "\n",
    "\n",
    "# Move the independent variable `sq_mtrs` to the last column\n",
    "rent_df = move_column_to_end(rent_df, 'Price')\n",
    "\n",
    "rent_df.head()\n"
   ]
  },
  {
   "cell_type": "markdown",
   "metadata": {
    "id": "HKH7DYA_p_GZ"
   },
   "source": [
    "### 8. Find the summary descriptive statistics for both the numerical and categorical features.\n",
    "\n",
    "---\n",
    "\n"
   ]
  },
  {
   "cell_type": "markdown",
   "metadata": {
    "id": "g8M7GgDyEDKG"
   },
   "source": [
    "#### A. Numerical features."
   ]
  },
  {
   "cell_type": "code",
   "execution_count": null,
   "metadata": {
    "colab": {
     "base_uri": "https://localhost:8080/",
     "height": 258
    },
    "id": "VH5UG_FNpzpu",
    "outputId": "21ef469b-d230-4e9c-db88-5590d5980632"
   },
   "outputs": [
    {
     "data": {
      "text/html": [
       "<h3>Summary statistics for Numerical features.</h3><div id =\"Summary_statistics\" style = \"height:200px; overflow:auto\"><table border=\"1\" class=\"dataframe\">\n",
       "  <thead>\n",
       "    <tr style=\"text-align: right;\">\n",
       "      <th></th>\n",
       "      <th>count</th>\n",
       "      <th>mean</th>\n",
       "      <th>std</th>\n",
       "      <th>min</th>\n",
       "      <th>25%</th>\n",
       "      <th>50%</th>\n",
       "      <th>75%</th>\n",
       "      <th>max</th>\n",
       "    </tr>\n",
       "  </thead>\n",
       "  <tbody>\n",
       "    <tr>\n",
       "      <th>sq_mtrs</th>\n",
       "      <td>1620.0</td>\n",
       "      <td>365.306173</td>\n",
       "      <td>2181.035762</td>\n",
       "      <td>0.0</td>\n",
       "      <td>2.00</td>\n",
       "      <td>3.0</td>\n",
       "      <td>14.25</td>\n",
       "      <td>40470.0</td>\n",
       "    </tr>\n",
       "    <tr>\n",
       "      <th>Bedrooms</th>\n",
       "      <td>1619.0</td>\n",
       "      <td>2.581223</td>\n",
       "      <td>0.829042</td>\n",
       "      <td>0.0</td>\n",
       "      <td>2.00</td>\n",
       "      <td>3.0</td>\n",
       "      <td>3.00</td>\n",
       "      <td>6.0</td>\n",
       "    </tr>\n",
       "    <tr>\n",
       "      <th>Bathrooms</th>\n",
       "      <td>1376.0</td>\n",
       "      <td>2.598837</td>\n",
       "      <td>1.015000</td>\n",
       "      <td>1.0</td>\n",
       "      <td>2.00</td>\n",
       "      <td>2.0</td>\n",
       "      <td>3.00</td>\n",
       "      <td>6.0</td>\n",
       "    </tr>\n",
       "    <tr>\n",
       "      <th>Price</th>\n",
       "      <td>1622.0</td>\n",
       "      <td>96963.312577</td>\n",
       "      <td>41034.694848</td>\n",
       "      <td>12000.0</td>\n",
       "      <td>69997.75</td>\n",
       "      <td>90000.0</td>\n",
       "      <td>130000.00</td>\n",
       "      <td>280000.0</td>\n",
       "    </tr>\n",
       "  </tbody>\n",
       "</table></div>"
      ],
      "text/plain": [
       "<IPython.core.display.HTML object>"
      ]
     },
     "metadata": {},
     "output_type": "display_data"
    }
   ],
   "source": [
    "# Select numerical features\n",
    "numerical_features = rent_df.select_dtypes(include=[np.number])\n",
    "\n",
    "# Create summary statistics for the numerical features\n",
    "sum_numerical_stats = numerical_features.describe().T\n",
    "\n",
    "# Display the results\n",
    "html_sum_numerical_stats = create_scrollable_table(sum_numerical_stats, \"Summary_statistics\", \"Summary statistics for Numerical features.\")\n",
    "\n",
    "display(HTML(html_sum_numerical_stats))"
   ]
  },
  {
   "cell_type": "markdown",
   "metadata": {
    "id": "wWc1g4waqwGm"
   },
   "source": [
    "#### B. Categorical features."
   ]
  },
  {
   "cell_type": "code",
   "execution_count": null,
   "metadata": {
    "colab": {
     "base_uri": "https://localhost:8080/",
     "height": 258
    },
    "id": "CngHA8sOqljR",
    "outputId": "9db7a876-81e1-402d-d6e4-014e0eb97313"
   },
   "outputs": [
    {
     "data": {
      "text/html": [
       "<h3>Summary statistics for Categorical features.</h3><div id =\"Summary_statistics\" style = \"height:200px; overflow:auto\"><table border=\"1\" class=\"dataframe\">\n",
       "  <thead>\n",
       "    <tr style=\"text-align: right;\">\n",
       "      <th></th>\n",
       "      <th>count</th>\n",
       "      <th>unique</th>\n",
       "      <th>top</th>\n",
       "      <th>freq</th>\n",
       "    </tr>\n",
       "  </thead>\n",
       "  <tbody>\n",
       "    <tr>\n",
       "      <th>Sub_County</th>\n",
       "      <td>1622</td>\n",
       "      <td>37</td>\n",
       "      <td>Dagoretti North</td>\n",
       "      <td>717</td>\n",
       "    </tr>\n",
       "    <tr>\n",
       "      <th>Neighborhood</th>\n",
       "      <td>1622</td>\n",
       "      <td>647</td>\n",
       "      <td>Kilimani</td>\n",
       "      <td>128</td>\n",
       "    </tr>\n",
       "  </tbody>\n",
       "</table></div>"
      ],
      "text/plain": [
       "<IPython.core.display.HTML object>"
      ]
     },
     "metadata": {},
     "output_type": "display_data"
    }
   ],
   "source": [
    "# Select categorical features\n",
    "categorical_features  = rent_df.select_dtypes(include = [object])\n",
    "\n",
    "# create a summary statistics\n",
    "sum_categorical_stats = categorical_features.describe().T\n",
    "\n",
    "# Display the results.\n",
    "html_sum_categorical_stats = create_scrollable_table(sum_categorical_stats, \"Summary_statistics\", \"Summary statistics for Categorical features.\")\n",
    "\n",
    "display(HTML(html_sum_categorical_stats))"
   ]
  },
  {
   "cell_type": "markdown",
   "metadata": {
    "id": "qOgVZropx6qw"
   },
   "source": [
    "### 9. Print all the columns in the dataset.\n"
   ]
  },
  {
   "cell_type": "code",
   "execution_count": null,
   "metadata": {
    "colab": {
     "base_uri": "https://localhost:8080/"
    },
    "id": "Qe5EDGzQx_Ch",
    "outputId": "d82b5832-f8c7-4372-a8f6-0de2b0708262"
   },
   "outputs": [
    {
     "name": "stdout",
     "output_type": "stream",
     "text": [
      "Index(['Sub_County', 'Neighborhood', 'sq_mtrs', 'Bedrooms', 'Bathrooms',\n",
      "       'Price'],\n",
      "      dtype='object')\n"
     ]
    }
   ],
   "source": [
    "# Print all the columns in the dataset.\n",
    "print(rent_df.columns)"
   ]
  },
  {
   "cell_type": "markdown",
   "metadata": {
    "id": "5_utAiHaq9jB"
   },
   "source": [
    "## Explore the dependent variables.\n",
    "\n",
    "---\n",
    "\n",
    "\n",
    "Qustion we want to ask the data?\n",
    "\n",
    "1.   Does the Independent variable have a normal distribution?\n",
    "2.   Is there any correlation between the dependent variables and the independent variables? Which has the highest correlation coefficient value?\n",
    "\n"
   ]
  },
  {
   "cell_type": "markdown",
   "metadata": {
    "id": "oYyBZ5l_9p2u"
   },
   "source": [
    "### 1. Does the Independent variable have a normal distribution?"
   ]
  },
  {
   "cell_type": "code",
   "execution_count": null,
   "metadata": {
    "colab": {
     "base_uri": "https://localhost:8080/",
     "height": 1000
    },
    "id": "zD3UMF399uOW",
    "outputId": "5e2539c1-d052-4ab6-cbf0-c07f50631818"
   },
   "outputs": [
    {
     "data": {
      "image/png": "[encoded data removed]",
      "text/plain": [
       "<Figure size 800x600 with 1 Axes>"
      ]
     },
     "metadata": {},
     "output_type": "display_data"
    },
    {
     "data": {
      "text/plain": [
       "<Figure size 800x600 with 0 Axes>"
      ]
     },
     "metadata": {},
     "output_type": "display_data"
    },
    {
     "data": {
      "image/png": "[encoded data removed]",
      "text/plain": [
       "<Figure size 640x480 with 1 Axes>"
      ]
     },
     "metadata": {},
     "output_type": "display_data"
    }
   ],
   "source": [
    "import matplotlib.pyplot as plt\n",
    "import statsmodels.api as sm\n",
    "import scipy.stats as stats\n",
    "\n",
    "# Histogram\n",
    "plt.figure(figsize=(8, 6))\n",
    "plt.hist(rent_df['Price'], bins=20)\n",
    "plt.title('Histogram of Price')\n",
    "plt.xlabel('Price')\n",
    "plt.ylabel('Frequency')\n",
    "plt.show()\n",
    "\n",
    "# Q-Q Plot\n",
    "plt.figure(figsize=(8, 6))\n",
    "sm.qqplot(rent_df['Price'], line='s')\n",
    "plt.title('Q-Q Plot of Price')\n",
    "plt.show()"
   ]
  },
  {
   "cell_type": "markdown",
   "metadata": {
    "id": "dC-udI3Y-jKY"
   },
   "source": [
    "### 2.   Is there any correlation between the dependent variables and the independent variables? Which has the highest correlation coefficient value?"
   ]
  },
  {
   "cell_type": "code",
   "execution_count": null,
   "metadata": {
    "colab": {
     "base_uri": "https://localhost:8080/",
     "height": 174
    },
    "id": "n-leDk2Zz8D5",
    "outputId": "ef6e5ca8-3e7d-4143-e06e-0a539524416f"
   },
   "outputs": [
    {
     "data": {
      "text/html": [
       "<div>\n",
       "<style scoped>\n",
       "    .dataframe tbody tr th:only-of-type {\n",
       "        vertical-align: middle;\n",
       "    }\n",
       "\n",
       "    .dataframe tbody tr th {\n",
       "        vertical-align: top;\n",
       "    }\n",
       "\n",
       "    .dataframe thead th {\n",
       "        text-align: right;\n",
       "    }\n",
       "</style>\n",
       "<table border=\"1\" class=\"dataframe\">\n",
       "  <thead>\n",
       "    <tr style=\"text-align: right;\">\n",
       "      <th></th>\n",
       "      <th>sq_mtrs</th>\n",
       "      <th>Bedrooms</th>\n",
       "      <th>Bathrooms</th>\n",
       "      <th>Price</th>\n",
       "    </tr>\n",
       "  </thead>\n",
       "  <tbody>\n",
       "    <tr>\n",
       "      <th>sq_mtrs</th>\n",
       "      <td>1.000000</td>\n",
       "      <td>-0.005315</td>\n",
       "      <td>0.005837</td>\n",
       "      <td>-0.025844</td>\n",
       "    </tr>\n",
       "    <tr>\n",
       "      <th>Bedrooms</th>\n",
       "      <td>-0.005315</td>\n",
       "      <td>1.000000</td>\n",
       "      <td>0.732994</td>\n",
       "      <td>0.359262</td>\n",
       "    </tr>\n",
       "    <tr>\n",
       "      <th>Bathrooms</th>\n",
       "      <td>0.005837</td>\n",
       "      <td>0.732994</td>\n",
       "      <td>1.000000</td>\n",
       "      <td>0.444120</td>\n",
       "    </tr>\n",
       "    <tr>\n",
       "      <th>Price</th>\n",
       "      <td>-0.025844</td>\n",
       "      <td>0.359262</td>\n",
       "      <td>0.444120</td>\n",
       "      <td>1.000000</td>\n",
       "    </tr>\n",
       "  </tbody>\n",
       "</table>\n",
       "</div>"
      ],
      "text/plain": [
       "            sq_mtrs  Bedrooms  Bathrooms     Price\n",
       "sq_mtrs    1.000000 -0.005315   0.005837 -0.025844\n",
       "Bedrooms  -0.005315  1.000000   0.732994  0.359262\n",
       "Bathrooms  0.005837  0.732994   1.000000  0.444120\n",
       "Price     -0.025844  0.359262   0.444120  1.000000"
      ]
     },
     "execution_count": 24,
     "metadata": {},
     "output_type": "execute_result"
    }
   ],
   "source": [
    "# Calculate the correlation matrix\n",
    "# Select only numeric columns for correlation calculation\n",
    "numeric_columns = rent_df.select_dtypes(include=[\"float64\", \"int64\", \"int32\"])\n",
    "correlation_matrix = numeric_columns.corr()\n",
    "\n",
    "# Display the correlation matrix\n",
    "correlation_matrix"
   ]
  },
  {
   "cell_type": "code",
   "execution_count": null,
   "metadata": {
    "colab": {
     "base_uri": "https://localhost:8080/",
     "height": 699
    },
    "id": "yRWEwxy34Zwe",
    "outputId": "6d8c5fb7-d39c-4767-98e0-92990558b46a"
   },
   "outputs": [
    {
     "data": {
      "image/png": "[encoded data removed]",
      "text/plain": [
       "<Figure size 1200x800 with 2 Axes>"
      ]
     },
     "metadata": {},
     "output_type": "display_data"
    }
   ],
   "source": [
    "plt.figure(figsize=(12, 8))  # Adjust figure size if needed\n",
    "sns.heatmap(correlation_matrix, annot=True, cmap=\"coolwarm\", fmt=\".2f\", linewidths=.5)\n",
    "plt.title(\"Correlation Matrix Heatmap\")\n",
    "plt.show()"
   ]
  },
  {
   "cell_type": "code",
   "execution_count": null,
   "metadata": {
    "colab": {
     "base_uri": "https://localhost:8080/"
    },
    "id": "ea5b2MPI4gNo",
    "outputId": "c09b3087-0165-424f-f578-046bffaf9ad8"
   },
   "outputs": [
    {
     "name": "stdout",
     "output_type": "stream",
     "text": [
      "The strongest correlation is between 'Bathrooms' and 'Price' with a value of 0.44\n"
     ]
    }
   ],
   "source": [
    "# Assuming 'target_column' is the name of your target variable\n",
    "target_column = 'Price'\n",
    "\n",
    "# Calculate the correlation matrix\n",
    "correlation_matrix = correlation_matrix\n",
    "\n",
    "# Get correlations of all features with the target variable\n",
    "target_corr = correlation_matrix[target_column].drop(target_column)\n",
    "\n",
    "# Find the feature with the strongest correlation to the target variable\n",
    "max_value = target_corr.abs().max()\n",
    "max_feature = target_corr.abs().idxmax()\n",
    "\n",
    "print(f\"The strongest correlation is between '{max_feature}' and '{target_column}' with a value of {max_value:.2f}\")\n"
   ]
  },
  {
   "cell_type": "markdown",
   "metadata": {},
   "source": [
    "## Downloading the preprocessed Data\n"
   ]
  },
  {
   "cell_type": "code",
   "execution_count": null,
   "metadata": {
    "colab": {
     "base_uri": "https://localhost:8080/",
     "height": 206
    },
    "id": "KDTLGnnNw3dr",
    "outputId": "6c5e9219-0f34-410f-ab7f-e47a6cebf6dd"
   },
   "outputs": [
    {
     "name": "stdout",
     "output_type": "stream",
     "text": [
      "        Sub_County          Neighborhood  sq_mtrs  Bedrooms  Bathrooms   Price\n",
      "0        Westlands      General Mathenge      4.0       4.0        4.0  155000\n",
      "1  Dagoretti North              Kilimani    300.0       3.0        4.0  100000\n",
      "2  Dagoretti North  Hatheru Rd,Lavington      3.0       3.0        5.0   75000\n",
      "3  Dagoretti North              Kilimani    227.0       3.0        4.0  135000\n",
      "4         Embakasi           Imara Daima      3.0       3.0        NaN   50000\n",
      "C:\\Users\\user\\OneDrive\\Documents\\Real_estate_prediction_model\\dataset\\preprocessed_data.csv\n",
      "Data has been saved to C:\\Users\\user\\OneDrive\\Documents\\Real_estate_prediction_model\\dataset\\preprocessed_data.csv\n"
     ]
    }
   ],
   "source": [
    "print(rent_df.head())\n",
    "\n",
    "# Code to download the preprocessed data.\n",
    "preprocessed_data = r'C:\\Users\\user\\OneDrive\\Documents\\Real_estate_prediction_model\\dataset\\preprocessed_data.csv'\n",
    "\n",
    "# Save the DataFrame to the specified CSV file\n",
    "rent_df.to_csv(preprocessed_data, index=False)\n",
    "\n",
    "print(preprocessed_data)\n",
    "\n",
    "print(f\"Data has been saved to {preprocessed_data}\")"
   ]
  },
  {
   "cell_type": "code",
   "execution_count": null,
   "metadata": {},
   "outputs": [
    {
     "name": "stdout",
     "output_type": "stream",
     "text": [
      "        Sub_County          Neighborhood  sq_mtrs  Bedrooms  Bathrooms   Price\n",
      "0        Westlands      General Mathenge      4.0       4.0        4.0  155000\n",
      "1  Dagoretti North              Kilimani    300.0       3.0        4.0  100000\n",
      "2  Dagoretti North  Hatheru Rd,Lavington      3.0       3.0        5.0   75000\n",
      "3  Dagoretti North              Kilimani    227.0       3.0        4.0  135000\n",
      "4         Embakasi           Imara Daima      3.0       3.0        NaN   50000\n"
     ]
    }
   ],
   "source": [
    "print(rent_df.head())"
   ]
  },
  {
   "cell_type": "markdown",
   "metadata": {
    "id": "grEp7FCL5_FQ"
   },
   "source": [
    "## Create Data Pipeline.\n",
    "\n",
    "\n",
    "---\n",
    "Data pipeline automates the process of collecting, cleaning, transforming, and moving data from various sources to a data warehouse, data lake, or directly to a machine learning model.\n",
    "\n",
    "Building a data pipeline is essential for ensuring the efficiency, quality, and reliability of data processing tasks. It facilitates better data management, scalability, and real-time processing, which are crucial for effective data analysis and machine learning. By automating and standardizing the workflow, data pipelines help organizations derive valuable insights from their data while maintaining compliance and reducing costs.\n",
    "\n",
    "---\n",
    "\n",
    "\n"
   ]
  },
  {
   "cell_type": "code",
   "execution_count": null,
   "metadata": {
    "id": "cTq-l0OB4ssA"
   },
   "outputs": [],
   "source": [
    "# Import the necessary libraries for creating the Transformers and Pipelines\n",
    "from sklearn.compose import ColumnTransformer\n",
    "from sklearn.impute import SimpleImputer\n",
    "from sklearn.pipeline import Pipeline\n",
    "from sklearn.preprocessing import StandardScaler, OneHotEncoder\n",
    "\n",
    "# Initalize the transformer for the numerical column to handle missing values\n",
    "numerical_transformer = Pipeline(steps= [\n",
    "    ('imputer', SimpleImputer(strategy = 'mean')),\n",
    "    ('scaler', StandardScaler())\n",
    "])\n",
    "\n",
    "# Initialize the transformer and pipeline for the Categorical column to handle missing values\n",
    "categorical_transformer = Pipeline(steps = [\n",
    "   ( 'imputer', SimpleImputer(strategy = 'constant', fill_value = 'missing')),\n",
    "    ('onehot', OneHotEncoder(handle_unknown = 'ignore', sparse_output = True))\n",
    "])"
   ]
  },
  {
   "cell_type": "markdown",
   "metadata": {
    "id": "hHCSiSW9zTPY"
   },
   "source": [
    "### Create a Transformer.\n",
    "\n",
    "---\n",
    "To ensure a more standardized and normally distributed target variable (y), I applied a natural log transformation to the prices during model training. This approach helps the model better capture relationships and reduces the influence of extreme values.\n"
   ]
  },
  {
   "cell_type": "code",
   "execution_count": null,
   "metadata": {
    "colab": {
     "base_uri": "https://localhost:8080/"
    },
    "id": "lABxbnMy7TUb",
    "outputId": "8f9bc835-f6d3-4660-df6b-5f9f7a551734"
   },
   "outputs": [
    {
     "name": "stdout",
     "output_type": "stream",
     "text": [
      "(1622, 687)\n"
     ]
    }
   ],
   "source": [
    "# Update the categorical and numerical columns.\n",
    "categorical_columns = rent_df.select_dtypes(include = ['object', 'category']).columns\n",
    "\n",
    "numerical_columns = rent_df.select_dtypes(include = ['int64', 'float64']).columns\n",
    "\n",
    "# Drop the Target variable\n",
    "numerical_columns = numerical_columns.drop('Price')\n",
    "\n",
    "\n",
    "# Combine the Transformers using the ColumnTransformer.\n",
    "preprocessor  = ColumnTransformer(\n",
    "    transformers = [\n",
    "        ('num', numerical_transformer, numerical_columns),\n",
    "        ('cat', categorical_transformer, categorical_columns)\n",
    "    ], remainder = 'passthrough')\n",
    "\n",
    "# Create a Pipeline from the combined transformers\n",
    "pipeline = Pipeline(steps = [\n",
    "    ('preprocessor', preprocessor)\n",
    "])\n",
    "\n",
    "# Apply the pipeline to the Dataset\n",
    "X = rent_df.drop('Price', axis = 1)\n",
    "y = np.log(rent_df['Price']) # normalize the target variable\n",
    "\n",
    "# Fit and transform the pipeline.\n",
    "X_preprocessed = pipeline.fit_transform(X)\n",
    "\n",
    "# print the shape of the processed data\n",
    "print(X_preprocessed.shape)"
   ]
  },
  {
   "cell_type": "code",
   "execution_count": null,
   "metadata": {},
   "outputs": [
    {
     "name": "stdout",
     "output_type": "stream",
     "text": [
      "0\n"
     ]
    }
   ],
   "source": [
    "# Check if there're duplicates in the dataset.\n",
    "\n",
    "duplicated_count =  rent_df.duplicated().sum()\n",
    "print(duplicated_count)"
   ]
  },
  {
   "cell_type": "markdown",
   "metadata": {},
   "source": [
    "### Saving the Pipeline in a pickle file\n"
   ]
  },
  {
   "cell_type": "code",
   "execution_count": null,
   "metadata": {},
   "outputs": [
    {
     "name": "stdout",
     "output_type": "stream",
     "text": [
      "Pipeline saved to C:\\Users\\user\\OneDrive\\Documents\\Real_estate_prediction_model/pipeline.pkl\n"
     ]
    }
   ],
   "source": [
    "import pickle\n",
    "\n",
    "# Specify the directory and filename\n",
    "file_path = r'C:\\Users\\user\\OneDrive\\Documents\\Real_estate_prediction_model/pipeline.pkl'\n",
    "\n",
    "# Save the pipeline to the specified directory\n",
    "with open(file_path, 'wb') as file:\n",
    "    pickle.dump(pipeline, file)\n",
    "\n",
    "print(f\"Pipeline saved to {file_path}\")\n"
   ]
  },
  {
   "cell_type": "markdown",
   "metadata": {},
   "source": [
    "### Columns to be included in the Pipeline and the preprocessing step for the prediction."
   ]
  },
  {
   "cell_type": "code",
   "execution_count": null,
   "metadata": {},
   "outputs": [
    {
     "name": "stdout",
     "output_type": "stream",
     "text": [
      "Expected input columns: ['Sub_County' 'Neighborhood' 'sq_mtrs' 'Bedrooms' 'Bathrooms']\n"
     ]
    }
   ],
   "source": [
    "print(\"Expected input columns:\", preprocessor.feature_names_in_)\n"
   ]
  },
  {
   "cell_type": "markdown",
   "metadata": {
    "id": "dZRxnAF--39E"
   },
   "source": [
    "### Check for missing values."
   ]
  },
  {
   "cell_type": "code",
   "execution_count": null,
   "metadata": {
    "colab": {
     "base_uri": "https://localhost:8080/"
    },
    "id": "bGyKoUVw8xO-",
    "outputId": "307d67bd-9394-4ea9-c50f-190e883facc0"
   },
   "outputs": [
    {
     "name": "stdout",
     "output_type": "stream",
     "text": [
      "float64\n",
      "\n",
      "There are 0 missing values.\n"
     ]
    }
   ],
   "source": [
    "print(X_preprocessed.dtype)\n",
    "print()\n",
    "import numpy as np\n",
    "from scipy.sparse import csr_matrix\n",
    "\n",
    "# Assuming X_preprocessed is a csr_matrix\n",
    "\n",
    "# Convert the sparse matrix to a dense NumPy array\n",
    "X_dense = X_preprocessed.toarray()\n",
    "\n",
    "# Now you can check for missing values (NaN) in the dense array\n",
    "missing_values = np.isnan(X_dense).sum()\n",
    "print(f\"There are {missing_values} missing values.\")"
   ]
  },
  {
   "cell_type": "markdown",
   "metadata": {
    "id": "Z3VqAMNxznlH"
   },
   "source": [
    "## Model Creation and Parameter Tuning."
   ]
  },
  {
   "cell_type": "code",
   "execution_count": null,
   "metadata": {
    "colab": {
     "base_uri": "https://localhost:8080/"
    },
    "id": "hRwWD_OcAYIW",
    "outputId": "5f464072-b1e6-4616-91b4-e1cc8c03332c"
   },
   "outputs": [
    {
     "name": "stdout",
     "output_type": "stream",
     "text": [
      "\n",
      "Training and Tuning Process for Support Vector Machine\n",
      "\n",
      "Fitting 3 folds for each of 12 candidates, totalling 36 fits\n",
      "The best parameter for Support Vector Machine: {'C': 1, 'gamma': 'scale', 'kernel': 'rbf'}\n",
      "The best RMSE for Support Vector Machine: 0.3377433898925963\n",
      "\n",
      "\n",
      "Training and Tuning Process for Random Forest\n",
      "\n",
      "Fitting 3 folds for each of 27 candidates, totalling 81 fits\n",
      "The best parameter for Random Forest: {'max_depth': 30, 'min_samples_split': 10, 'n_estimators': 100}\n",
      "The best RMSE for Random Forest: 0.34456249626866736\n",
      "\n",
      "\n",
      "Training and Tuning Process for Decision Tree\n",
      "\n",
      "Fitting 3 folds for each of 432 candidates, totalling 1296 fits\n",
      "The best parameter for Decision Tree: {'criterion': 'absolute_error', 'max_depth': 10, 'max_features': None, 'min_samples_leaf': 1, 'min_samples_split': 10}\n",
      "The best RMSE for Decision Tree: 0.36957315885361397\n",
      "\n",
      "\n",
      "--- Model Comparison Results ---\n",
      "Support Vector Machine: RMSE = 0.3377\n",
      "Random Forest: RMSE = 0.3446\n",
      "Decision Tree: RMSE = 0.3696\n",
      "\n",
      "--- Best Model for Deployment ---\n",
      "Best Model: Support Vector Machine with RMSE = 0.3377\n"
     ]
    }
   ],
   "source": [
    "# Import necessary libraries\n",
    "from sklearn.model_selection import train_test_split, GridSearchCV, KFold\n",
    "from sklearn.metrics import mean_squared_error, mean_absolute_error, r2_score\n",
    "from sklearn.ensemble import RandomForestRegressor\n",
    "from sklearn.tree import DecisionTreeRegressor\n",
    "from sklearn.svm import SVR  # Support Vector Machine for regression\n",
    "import numpy as np\n",
    "\n",
    "# Split the dataset into training and testing sets\n",
    "X_train, X_test, y_train, y_test = train_test_split(X_preprocessed, y, test_size=0.2, random_state=42)\n",
    "\n",
    "# Define the models\n",
    "models = {\n",
    "    'Support Vector Machine': SVR(),\n",
    "    'Random Forest': RandomForestRegressor(random_state=42),\n",
    "    'Decision Tree': DecisionTreeRegressor(random_state=42)\n",
    "}\n",
    "\n",
    "# Define the hyperparameter grids\n",
    "param_grid = {\n",
    "    'Support Vector Machine': {\n",
    "        'kernel': ['linear', 'rbf'],\n",
    "        'C': [0.1, 1, 10],\n",
    "        'gamma': ['scale', 'auto']\n",
    "    },\n",
    "    'Random Forest': {\n",
    "        'n_estimators': [100, 200, 500],\n",
    "        'max_depth': [None, 10, 30],\n",
    "        'min_samples_split': [2, 5, 10]\n",
    "    },\n",
    "    'Decision Tree': {\n",
    "        'max_depth': [None, 10, 20, 30],\n",
    "        'min_samples_split': [2, 5, 10],\n",
    "        'min_samples_leaf': [1, 2, 4],\n",
    "        'max_features': [None, 'sqrt', 'log2'],\n",
    "        'criterion': ['squared_error', 'friedman_mse', 'absolute_error', 'poisson']\n",
    "    }\n",
    "}\n",
    "\n",
    "# Set up K-Fold cross-validation\n",
    "cv = KFold(n_splits=3, shuffle=True, random_state=42)\n",
    "\n",
    "# Initialize an empty dictionary to store results\n",
    "grid = {}\n",
    "model_rmse_results = {}\n",
    "\n",
    "# Train and tune the models\n",
    "for model_name, model in models.items():\n",
    "    print(f\"\\nTraining and Tuning Process for {model_name}\\n\")\n",
    "    grid[model_name] = GridSearchCV(\n",
    "        estimator=model,\n",
    "        param_grid=param_grid[model_name],\n",
    "        cv=cv,\n",
    "        scoring='neg_mean_squared_error',\n",
    "        n_jobs=-1,\n",
    "        verbose=2\n",
    "    )\n",
    "\n",
    "    # Fit the GridSearchCV to the training data\n",
    "    grid[model_name].fit(X_train, y_train)\n",
    "\n",
    "    # Extract the best parameters and best score\n",
    "    best_params = grid[model_name].best_params_\n",
    "    best_score = np.sqrt(-1 * grid[model_name].best_score_)\n",
    "\n",
    "    # Store the RMSE in the results dictionary\n",
    "    model_rmse_results[model_name] = best_score\n",
    "\n",
    "    # Print the results\n",
    "    print(f'The best parameter for {model_name}: {best_params}')\n",
    "    print(f'The best RMSE for {model_name}: {best_score}\\n')\n",
    "\n",
    "# Identify the model with the lowest RMSE\n",
    "best_model_name = min(model_rmse_results, key=model_rmse_results.get)\n",
    "best_model_rmse = model_rmse_results[best_model_name]\n",
    "\n",
    "# Display the best model\n",
    "print(\"\\n--- Model Comparison Results ---\")\n",
    "for model_name, rmse in model_rmse_results.items():\n",
    "    print(f\"{model_name}: RMSE = {rmse:.4f}\")\n",
    "print(\"\\n--- Best Model for Deployment ---\")\n",
    "print(f\"Best Model: {best_model_name} with RMSE = {best_model_rmse:.4f}\")\n"
   ]
  },
  {
   "cell_type": "markdown",
   "metadata": {
    "id": "m_eYKcBl9qFh"
   },
   "source": [
    "Support Vector Machine (SVM) is the best model for deployment. It has RMSE of 0.3307 lower that the other models."
   ]
  },
  {
   "cell_type": "markdown",
   "metadata": {
    "id": "O0BebnSQ3mlL"
   },
   "source": [
    "## Model Prediction using the best Model.\n",
    "\n",
    "---\n"
   ]
  },
  {
   "cell_type": "markdown",
   "metadata": {
    "id": "BveB4QTe4z_W"
   },
   "source": [
    "### A. Model Prediction from the Training data.\n",
    "\n",
    "---\n",
    "\n",
    "To ensure a more standardized and normally distributed target variable, I applied a natural log transformation to the prices during model training. This approach helps the model better capture relationships and reduces the influence of extreme values.\n",
    "\n",
    "After generating predictions in the log-transformed space, I reversed the transformation using the exponential function (np.exp) to convert the predicted values back to their original scale. This allows for direct comparison between the actual prices and the predicted prices, ensuring interpretability and practical relevance of the results.\n"
   ]
  },
  {
   "cell_type": "code",
   "execution_count": null,
   "metadata": {
    "colab": {
     "base_uri": "https://localhost:8080/"
    },
    "id": "blYu5JcalFaS",
    "outputId": "fe5d809a-70c4-4c99-884f-98d6836e02a8"
   },
   "outputs": [
    {
     "name": "stdout",
     "output_type": "stream",
     "text": [
      "\n",
      "Evaluating Training Performance for Support Vector Machine\n",
      "\n",
      "Training Metrics in Log-Transformed Space for Support Vector Machine:\n",
      " The training RMSE (log-transformed): 0.2081\n",
      " The training MAE (log-transformed): 0.1549\n",
      " The training R² (log-transformed): 0.8351\n",
      "\n",
      "Training Metrics in Original Scale for Support Vector Machine:\n",
      " The training RMSE (original scale): 20945.6716\n",
      " The training MAE (original scale): 14808.1841\n",
      " The training R² (original scale): 0.7376\n",
      "\n",
      "Sample of Actual vs Predicted Prices (Original Scale):\n",
      "Actual: 100000.00, Predicted: 90467.57\n",
      "Actual: 120000.00, Predicted: 118997.03\n",
      "Actual: 140000.00, Predicted: 112473.13\n",
      "Actual: 65000.00, Predicted: 53976.58\n",
      "Actual: 140000.00, Predicted: 82237.39\n",
      "\n",
      "Evaluating Training Performance for Random Forest\n",
      "\n",
      "Training Metrics in Log-Transformed Space for Random Forest:\n",
      " The training RMSE (log-transformed): 0.2079\n",
      " The training MAE (log-transformed): 0.1637\n",
      " The training R² (log-transformed): 0.8353\n",
      "\n",
      "Training Metrics in Original Scale for Random Forest:\n",
      " The training RMSE (original scale): 20751.3978\n",
      " The training MAE (original scale): 15410.4040\n",
      " The training R² (original scale): 0.7424\n",
      "\n",
      "Sample of Actual vs Predicted Prices (Original Scale):\n",
      "Actual: 100000.00, Predicted: 87206.14\n",
      "Actual: 120000.00, Predicted: 117216.38\n",
      "Actual: 140000.00, Predicted: 111901.44\n",
      "Actual: 65000.00, Predicted: 38266.70\n",
      "Actual: 140000.00, Predicted: 99310.57\n",
      "\n",
      "Evaluating Training Performance for Decision Tree\n",
      "\n",
      "Training Metrics in Log-Transformed Space for Decision Tree:\n",
      " The training RMSE (log-transformed): 0.2752\n",
      " The training MAE (log-transformed): 0.2009\n",
      " The training R² (log-transformed): 0.7115\n",
      "\n",
      "Training Metrics in Original Scale for Decision Tree:\n",
      " The training RMSE (original scale): 26549.9306\n",
      " The training MAE (original scale): 18668.0856\n",
      " The training R² (original scale): 0.5784\n",
      "\n",
      "Sample of Actual vs Predicted Prices (Original Scale):\n",
      "Actual: 100000.00, Predicted: 95000.00\n",
      "Actual: 120000.00, Predicted: 120000.00\n",
      "Actual: 140000.00, Predicted: 150000.00\n",
      "Actual: 65000.00, Predicted: 65000.00\n",
      "Actual: 140000.00, Predicted: 85000.00\n"
     ]
    }
   ],
   "source": [
    "# Evaluating training performance for all the best models\n",
    "for model_name, grid_search in grid.items():\n",
    "    print(f\"\\nEvaluating Training Performance for {model_name}\\n\")\n",
    "\n",
    "    # Get the best model\n",
    "    best_model = grid_search.best_estimator_\n",
    "\n",
    "    # Predict on the training data (log-transformed predictions)\n",
    "    y_train_pred_log = best_model.predict(X_train)\n",
    "\n",
    "    # Calculate evaluation metrics in the log-transformed space\n",
    "    train_rmse_log = np.sqrt(mean_squared_error(y_train, y_train_pred_log))\n",
    "    train_mae_log = mean_absolute_error(y_train, y_train_pred_log)\n",
    "    train_r2_log = r2_score(y_train, y_train_pred_log)\n",
    "\n",
    "    # Print metrics in the log-transformed space\n",
    "    print(f\"Training Metrics in Log-Transformed Space for {model_name}:\")\n",
    "    print(f\" The training RMSE (log-transformed): {train_rmse_log:.4f}\")\n",
    "    print(f\" The training MAE (log-transformed): {train_mae_log:.4f}\")\n",
    "    print(f\" The training R² (log-transformed): {train_r2_log:.4f}\\n\")\n",
    "\n",
    "    # Reverse the log transformation for the predictions and actuals\n",
    "    y_train_pred = np.exp(y_train_pred_log)  # Convert back to original scale\n",
    "    y_train_original = np.exp(y_train)  # Convert actual values to original scale\n",
    "\n",
    "    # Calculate evaluation metrics in the original scale\n",
    "    train_rmse_original = np.sqrt(mean_squared_error(y_train_original, y_train_pred))\n",
    "    train_mae_original = mean_absolute_error(y_train_original, y_train_pred)\n",
    "    train_r2_original = r2_score(y_train_original, y_train_pred)\n",
    "\n",
    "    # Print metrics in the original scale\n",
    "    print(f\"Training Metrics in Original Scale for {model_name}:\")\n",
    "    print(f\" The training RMSE (original scale): {train_rmse_original:.4f}\")\n",
    "    print(f\" The training MAE (original scale): {train_mae_original:.4f}\")\n",
    "    print(f\" The training R² (original scale): {train_r2_original:.4f}\\n\")\n",
    "\n",
    "    # Print a sample of actual and predicted prices in the original scale\n",
    "    print(\"Sample of Actual vs Predicted Prices (Original Scale):\")\n",
    "    for actual, predicted in zip(y_train_original[:5], y_train_pred[:5]):  # Adjust number of samples as needed\n",
    "        print(f\"Actual: {actual:.2f}, Predicted: {predicted:.2f}\")\n"
   ]
  },
  {
   "cell_type": "markdown",
   "metadata": {
    "id": "d8Oe3Zc8AuyP"
   },
   "source": [
    "### B. Evaluating model performance on the Test data.\n",
    "\n",
    "---\n",
    "\n"
   ]
  },
  {
   "cell_type": "code",
   "execution_count": null,
   "metadata": {
    "colab": {
     "base_uri": "https://localhost:8080/"
    },
    "id": "RK_fNEXGoGtB",
    "outputId": "bb88e905-17d7-4ca8-be04-aa4300698977"
   },
   "outputs": [
    {
     "name": "stdout",
     "output_type": "stream",
     "text": [
      "\n",
      "Evaluating Test Performance for Support Vector Machine\n",
      "\n",
      "Test Metrics in Log-Transformed Space for Support Vector Machine:\n",
      " The test RMSE (log-transformed): 0.3491\n",
      " The test MAE (log-transformed): 0.2706\n",
      " The test R² (log-transformed): 0.5607\n",
      "\n",
      "Test Metrics in Original Scale for Support Vector Machine:\n",
      " The test RMSE (original scale): 30977.7762\n",
      " The test MAE (original scale): 23291.0357\n",
      " The test R² (original scale): 0.4402\n",
      "\n",
      "Sample of Actual vs Predicted Prices (Original Scale):\n",
      "Actual: 35000.00, Predicted: 42064.98\n",
      "Actual: 95000.00, Predicted: 99531.53\n",
      "Actual: 95000.00, Predicted: 108701.96\n",
      "Actual: 130000.00, Predicted: 113996.60\n",
      "Actual: 80000.00, Predicted: 91647.55\n",
      "\n",
      "Evaluating Test Performance for Random Forest\n",
      "\n",
      "Test Metrics in Log-Transformed Space for Random Forest:\n",
      " The test RMSE (log-transformed): 0.3490\n",
      " The test MAE (log-transformed): 0.2682\n",
      " The test R² (log-transformed): 0.5609\n",
      "\n",
      "Test Metrics in Original Scale for Random Forest:\n",
      " The test RMSE (original scale): 30529.9927\n",
      " The test MAE (original scale): 22928.9084\n",
      " The test R² (original scale): 0.4563\n",
      "\n",
      "Sample of Actual vs Predicted Prices (Original Scale):\n",
      "Actual: 35000.00, Predicted: 53911.65\n",
      "Actual: 95000.00, Predicted: 100986.08\n",
      "Actual: 95000.00, Predicted: 102867.89\n",
      "Actual: 130000.00, Predicted: 122834.58\n",
      "Actual: 80000.00, Predicted: 108294.87\n",
      "\n",
      "Evaluating Test Performance for Decision Tree\n",
      "\n",
      "Test Metrics in Log-Transformed Space for Decision Tree:\n",
      " The test RMSE (log-transformed): 0.3857\n",
      " The test MAE (log-transformed): 0.2917\n",
      " The test R² (log-transformed): 0.4636\n",
      "\n",
      "Test Metrics in Original Scale for Decision Tree:\n",
      " The test RMSE (original scale): 33533.0692\n",
      " The test MAE (original scale): 24762.9893\n",
      " The test R² (original scale): 0.3440\n",
      "\n",
      "Sample of Actual vs Predicted Prices (Original Scale):\n",
      "Actual: 35000.00, Predicted: 70000.00\n",
      "Actual: 95000.00, Predicted: 100000.00\n",
      "Actual: 95000.00, Predicted: 98000.00\n",
      "Actual: 130000.00, Predicted: 120000.00\n",
      "Actual: 80000.00, Predicted: 100000.00\n"
     ]
    }
   ],
   "source": [
    "# Evaluating performance for the best models on test data\n",
    "for model_name, grid_search in grid.items():\n",
    "    print(f\"\\nEvaluating Test Performance for {model_name}\\n\")\n",
    "\n",
    "    # Get the best model\n",
    "    best_model = grid_search.best_estimator_\n",
    "\n",
    "    # Predict on the test data (log-transformed predictions)\n",
    "    y_test_pred_log = best_model.predict(X_test)\n",
    "\n",
    "    # Calculate evaluation metrics in the log-transformed space\n",
    "    test_rmse_log = np.sqrt(mean_squared_error(y_test, y_test_pred_log))\n",
    "    test_mae_log = mean_absolute_error(y_test, y_test_pred_log)\n",
    "    test_r2_log = r2_score(y_test, y_test_pred_log)\n",
    "\n",
    "    # Print metrics in the log-transformed space\n",
    "    print(f\"Test Metrics in Log-Transformed Space for {model_name}:\")\n",
    "    print(f\" The test RMSE (log-transformed): {test_rmse_log:.4f}\")\n",
    "    print(f\" The test MAE (log-transformed): {test_mae_log:.4f}\")\n",
    "    print(f\" The test R² (log-transformed): {test_r2_log:.4f}\\n\")\n",
    "\n",
    "    # Reverse the log transformation for predictions and actuals\n",
    "    y_test_pred = np.exp(y_test_pred_log)  # Convert back to original scale\n",
    "    y_test_original = np.exp(y_test)  # Convert actual values to original scale\n",
    "\n",
    "    # Calculate evaluation metrics in the original scale\n",
    "    test_rmse_original = np.sqrt(mean_squared_error(y_test_original, y_test_pred))\n",
    "    test_mae_original = mean_absolute_error(y_test_original, y_test_pred)\n",
    "    test_r2_original = r2_score(y_test_original, y_test_pred)\n",
    "\n",
    "    # Print metrics in the original scale\n",
    "    print(f\"Test Metrics in Original Scale for {model_name}:\")\n",
    "    print(f\" The test RMSE (original scale): {test_rmse_original:.4f}\")\n",
    "    print(f\" The test MAE (original scale): {test_mae_original:.4f}\")\n",
    "    print(f\" The test R² (original scale): {test_r2_original:.4f}\\n\")\n",
    "\n",
    "    # Print a sample of actual and predicted prices in the original scale\n",
    "    print(\"Sample of Actual vs Predicted Prices (Original Scale):\")\n",
    "    for actual, predicted in zip(y_test_original[:5], y_test_pred[:5]):  # Adjust number of samples as needed\n",
    "        print(f\"Actual: {actual:.2f}, Predicted: {predicted:.2f}\")\n"
   ]
  },
  {
   "cell_type": "markdown",
   "metadata": {
    "id": "mDeKCbP34nmr"
   },
   "source": [
    "### C. Evaluating the best model (SVM) performance on the test data.\n",
    "\n",
    "---\n",
    "\n"
   ]
  },
  {
   "cell_type": "code",
   "execution_count": null,
   "metadata": {
    "colab": {
     "base_uri": "https://localhost:8080/"
    },
    "id": "ZGmys_I_pk3r",
    "outputId": "bb701e55-cd03-4d8b-e651-b66be10a6c15"
   },
   "outputs": [
    {
     "name": "stdout",
     "output_type": "stream",
     "text": [
      "\n",
      "Evaluating Test Performance for Support Vector Machine (Best Model)\n",
      "\n",
      "Test Metrics for Support Vector Machine (Log-Transformed Scale):\n",
      " The log-test RMSE: 0.3491\n",
      " The log-test MAE: 0.2706\n",
      " The log-test R²: 0.5607\n",
      "\n",
      "Test Metrics for Support Vector Machine (Original Scale):\n",
      " The test RMSE: 30977.7762\n",
      " The test MAE: 23291.0357\n",
      " The test R²: 0.4402\n",
      "\n",
      "Sample of Actual vs Predicted Prices on Test Data (Original Scale):\n",
      "Actual: 35000.00, Predicted: 42064.98\n",
      "Actual: 95000.00, Predicted: 99531.53\n",
      "Actual: 95000.00, Predicted: 108701.96\n",
      "Actual: 130000.00, Predicted: 113996.60\n",
      "Actual: 80000.00, Predicted: 91647.55\n"
     ]
    }
   ],
   "source": [
    "# Prediction from the test data using the best model\n",
    "# Find the best model based on GridSearchCV results\n",
    "best_model_name = min(model_rmse_results, key=model_rmse_results.get)\n",
    "best_model = grid[best_model_name].best_estimator_\n",
    "\n",
    "# Predict on the test data (log-transformed predictions)\n",
    "y_test_pred_log = best_model.predict(X_test)\n",
    "\n",
    "# Reverse the log transformation for the predictions and the actual test data\n",
    "y_test_pred = np.exp(y_test_pred_log)  # Convert predictions back to original scale\n",
    "y_test_original = np.exp(y_test)  # Convert actual test values back to original scale\n",
    "\n",
    "# Calculate evaluation metrics for test data in the original scale\n",
    "test_rmse = np.sqrt(mean_squared_error(y_test_original, y_test_pred))\n",
    "test_mae = mean_absolute_error(y_test_original, y_test_pred)\n",
    "test_r2 = r2_score(y_test_original, y_test_pred)\n",
    "\n",
    "# Calculate evaluation metrics for test data in the log-transformed scale\n",
    "log_test_rmse = np.sqrt(mean_squared_error(y_test, y_test_pred_log))\n",
    "log_test_mae = mean_absolute_error(y_test, y_test_pred_log)\n",
    "log_test_r2 = r2_score(y_test, y_test_pred_log)\n",
    "\n",
    "# Print metrics for test data in the original scale\n",
    "print(f\"\\nEvaluating Test Performance for {best_model_name} (Best Model)\\n\")\n",
    "\n",
    "# Print metrics for test data in the log-transformed scale\n",
    "print(f\"Test Metrics for {best_model_name} (Log-Transformed Scale):\")\n",
    "print(f\" The log-test RMSE: {log_test_rmse:.4f}\")\n",
    "print(f\" The log-test MAE: {log_test_mae:.4f}\")\n",
    "print(f\" The log-test R²: {log_test_r2:.4f}\\n\")\n",
    "\n",
    "print(f\"Test Metrics for {best_model_name} (Original Scale):\")\n",
    "print(f\" The test RMSE: {test_rmse:.4f}\")\n",
    "print(f\" The test MAE: {test_mae:.4f}\")\n",
    "print(f\" The test R²: {test_r2:.4f}\\n\")\n",
    "\n",
    "# Print a sample of actual and predicted prices\n",
    "print(\"Sample of Actual vs Predicted Prices on Test Data (Original Scale):\")\n",
    "for actual, predicted in zip(y_test_original[:5], y_test_pred[:5]):  # Adjust number of samples as needed\n",
    "    print(f\"Actual: {actual:.2f}, Predicted: {predicted:.2f}\")"
   ]
  },
  {
   "cell_type": "markdown",
   "metadata": {
    "id": "2VKMwqWvBslg"
   },
   "source": [
    "## Saving the Best Model, Support Vector Machine."
   ]
  },
  {
   "cell_type": "markdown",
   "metadata": {
    "id": "wrPaxuKOB3KT"
   },
   "source": [
    "### Save the Best Model as a Pickle File.\n",
    "\n",
    "---\n",
    "From your previous output, we can see that the best model based on the test RMSE is:\n",
    "\n",
    "Support Vector Machine: RMSE = 0.2869\n"
   ]
  },
  {
   "cell_type": "code",
   "execution_count": null,
   "metadata": {
    "colab": {
     "base_uri": "https://localhost:8080/"
    },
    "id": "va1bctYt_gei",
    "outputId": "c96d0c24-1306-4c1f-a3ec-0fe136d328d0"
   },
   "outputs": [
    {
     "name": "stdout",
     "output_type": "stream",
     "text": [
      "Best model (Support Vector Machine) saved successfully as 'best_svm_model.pkl'.\n"
     ]
    }
   ],
   "source": [
    "import pickle\n",
    "\n",
    "# Assuming the best model (Support Vector Machine) has already been trained and tuned.\n",
    "# Let's assume that 'best_svm_model' is the model object that represents your trained SVM model.\n",
    "\n",
    "best_model = grid['Support Vector Machine'].best_estimator_\n",
    "\n",
    "# Save the best model (SVM) to a pickle file\n",
    "with open(r'C:\\Users\\user\\OneDrive\\Documents\\Real_estate_prediction_model\\best_svm_model.pkl', 'wb') as file:\n",
    "    pickle.dump(best_model, file)\n",
    "\n",
    "print(\"Best model (Support Vector Machine) saved successfully as 'best_svm_model.pkl'.\")\n"
   ]
  },
  {
   "cell_type": "markdown",
   "metadata": {
    "id": "FeJmkeSLDXYh"
   },
   "source": [
    "### Loading the Saved Model for Predictions (in Deployment)\n",
    "\n",
    "---\n",
    "Once the model is saved, you can load it in your deployment environment to make predictions. Here's how you can load the saved model for use in deployment:\n"
   ]
  },
  {
   "cell_type": "code",
   "execution_count": null,
   "metadata": {
    "id": "7dRoTV-dB6pH"
   },
   "outputs": [],
   "source": [
    "import pickle\n",
    "\n",
    "# Load the saved Support Vector Machine model\n",
    "with open('best_svm_model.pkl', 'rb') as file:\n",
    "    best_model = pickle.load(file)\n",
    "\n",
    "# Example usage: Making predictions on new data\n",
    "# Ensure you preprocess the new data in the same way as the training data\n",
    "# X_new = preprocess(new_data)\n",
    "# predictions = best_model.predict(X_new)\n"
   ]
  },
  {
   "cell_type": "code",
   "execution_count": null,
   "metadata": {
    "id": "8r-Yo2rYDeAV"
   },
   "outputs": [],
   "source": []
  },
  {
   "cell_type": "code",
   "execution_count": null,
   "id": "ae846817",
   "metadata": {},
   "outputs": [],
   "source": [
    "\n",
    "# Linear Regression with Prediction Intervals\n",
    "\n",
    "from sklearn.linear_model import LinearRegression\n",
    "from sklearn.model_selection import train_test_split\n",
    "import numpy as np\n",
    "import pandas as pd\n",
    "\n",
    "# Assuming the DataFrame is called df and the target is 'price' or similar\n",
    "# Replace 'price' and feature columns as needed\n",
    "\n",
    "features = df.drop(columns=['price'])  # replace with actual target column\n",
    "target = df['price']\n",
    "\n",
    "X_train, X_val, y_train, y_val = train_test_split(features, target, test_size=0.2, random_state=42)\n",
    "\n",
    "# Train model\n",
    "lr_model = LinearRegression()\n",
    "lr_model.fit(X_train, y_train)\n",
    "\n",
    "# Validation predictions and residuals\n",
    "y_pred_val = lr_model.predict(X_val)\n",
    "residuals = y_val - y_pred_val\n",
    "error_margin = np.percentile(np.abs(residuals), 90)\n",
    "\n",
    "# Predict on validation set with intervals\n",
    "y_pred_interval = lr_model.predict(X_val)\n",
    "lower_bound = y_pred_interval - error_margin\n",
    "upper_bound = y_pred_interval + error_margin\n",
    "\n",
    "# Preview the prediction intervals\n",
    "prediction_df = pd.DataFrame({\n",
    "    'Actual': y_val,\n",
    "    'Predicted': y_pred_interval,\n",
    "    'Lower Bound': lower_bound,\n",
    "    'Upper Bound': upper_bound\n",
    "})\n",
    "prediction_df.head()\n"
   ]
  }
 ],
 "metadata": {
  "colab": {
   "provenance": [],
   "toc_visible": true
  },
  "kernelspec": {
   "display_name": "streamlitenv",
   "language": "python",
   "name": "python3"
  },
  "language_info": {
   "codemirror_mode": {
    "name": "ipython",
    "version": 3
   },
   "file_extension": ".py",
   "mimetype": "text/x-python",
   "name": "python",
   "nbconvert_exporter": "python",
   "pygments_lexer": "ipython3",
   "version": "3.12.8"
  }
 },
 "nbformat": 4,
 "nbformat_minor": 0
}
